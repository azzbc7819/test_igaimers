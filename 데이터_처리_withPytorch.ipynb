{
  "nbformat": 4,
  "nbformat_minor": 0,
  "metadata": {
    "colab": {
      "provenance": [],
      "mount_file_id": "13hkxZMsHE1CmtPLShR7ge3Sf5DwFd-YV",
      "authorship_tag": "ABX9TyNi4NUSHblp0BMOtWXFzZKN",
      "include_colab_link": true
    },
    "kernelspec": {
      "name": "python3",
      "display_name": "Python 3"
    },
    "language_info": {
      "name": "python"
    }
  },
  "cells": [
    {
      "cell_type": "markdown",
      "metadata": {
        "id": "view-in-github",
        "colab_type": "text"
      },
      "source": [
        "<a href=\"https://colab.research.google.com/github/azzbc7819/test_igaimers/blob/develop/%EB%8D%B0%EC%9D%B4%ED%84%B0_%EC%B2%98%EB%A6%AC_withPytorch.ipynb\" target=\"_parent\"><img src=\"https://colab.research.google.com/assets/colab-badge.svg\" alt=\"Open In Colab\"/></a>"
      ]
    },
    {
      "cell_type": "code",
      "execution_count": 17,
      "metadata": {
        "id": "zNpFQz9AZDi8"
      },
      "outputs": [],
      "source": [
        "import torch\n",
        "from torch.utils.data import Dataset\n",
        "from torchvision import datasets\n",
        "from torchvision.transforms import ToTensor\n",
        "import matplotlib.pyplot as plt\n",
        "import pandas as pd\n",
        "from sklearn.preprocessing import LabelEncoder\n",
        "from torch.utils.data import DataLoader\n"
      ]
    },
    {
      "cell_type": "code",
      "source": [
        "#데이터 전처리\n",
        "\n",
        "trainfile = '/content/drive/MyDrive/LG Aimers 해커톤/train.csv'\n",
        "data = pd.read_csv(trainfile)\n",
        "\n",
        "data_x = data.drop(columns=['PRODUCT_ID', 'TIMESTAMP','Y_Class', 'Y_Quality']) \n",
        "data_y = pd.DataFrame(data['Y_Class']) \n",
        "\n",
        "data_x = data_x.fillna(0) #결측값 모두 0으로 채우기\n",
        "\n",
        "# qualitative to quantitative\n",
        "#말그대로 범주형 데이터 > 수치형 데이터로 전환\n",
        "\n",
        "qual_col = ['LINE', 'PRODUCT_CODE']\n",
        "\n",
        "for i in qual_col:\n",
        "    le = LabelEncoder()\n",
        "    le = le.fit(data_x[i])\n",
        "    data_x[i] = le.transform(data_x[i])\n",
        "    \n",
        "print('Done.')"
      ],
      "metadata": {
        "colab": {
          "base_uri": "https://localhost:8080/"
        },
        "id": "tdyhXo0Oop5W",
        "outputId": "0ba063a2-b6b0-4f46-b137-f8b0162d164f"
      },
      "execution_count": 65,
      "outputs": [
        {
          "output_type": "stream",
          "name": "stdout",
          "text": [
            "Done.\n"
          ]
        }
      ]
    },
    {
      "cell_type": "code",
      "source": [
        "class CustomDataset(Dataset):\n",
        "  def __init__(self, x_data, y_data):\n",
        "    self.x_data = torch.Tensor(x_data)\n",
        "    self.y_data = torch.Tensor(y_data)\n",
        "\n",
        "  def __len__(self):\n",
        "    # 가지고 있는 데이터셋의 길이를 반환한다.\n",
        "    return len(self.x_data)\n",
        "\n",
        "  def __getitem__(self,idx):\n",
        "    return self.x_data[idx], self.y_data[idx] # 해당하는 idx(인덱스)의 x와 y 데이터를 반환한다."
      ],
      "metadata": {
        "id": "NgsT0hAOZ8sU"
      },
      "execution_count": 70,
      "outputs": []
    },
    {
      "cell_type": "code",
      "source": [
        "print(type(data_x.values))\n",
        "print(type(data_x))\n",
        "\n",
        "#그냥 data는 pd.df라서 torch에서 못 읽음 values로 해주어야 함"
      ],
      "metadata": {
        "colab": {
          "base_uri": "https://localhost:8080/"
        },
        "id": "gf0Py0x0pgZG",
        "outputId": "03750209-69aa-4aab-92ac-f98f451f0be8"
      },
      "execution_count": 68,
      "outputs": [
        {
          "output_type": "stream",
          "name": "stdout",
          "text": [
            "<class 'numpy.ndarray'>\n",
            "<class 'pandas.core.frame.DataFrame'>\n"
          ]
        }
      ]
    },
    {
      "cell_type": "code",
      "source": [
        "#DataLoader을 통해 DataSet으로 전처리하 데이터셋의 샘플들을 미니배치로 전달하고, 매 에폭마다 데이터를 다시 섞어준다\n",
        "dataset = CustomDataset(data_x.values, data_y.values)\n",
        "dataloader = DataLoader(dataset, batch_size = 60, shuffle=True)"
      ],
      "metadata": {
        "id": "rx78GoTgdjIt"
      },
      "execution_count": 71,
      "outputs": []
    },
    {
      "cell_type": "code",
      "source": [
        "train_x, train_y = next(iter(dataloader))"
      ],
      "metadata": {
        "id": "53J6HTEnjxGd"
      },
      "execution_count": 74,
      "outputs": []
    },
    {
      "cell_type": "code",
      "source": [
        "#batchsize, feature 수\n",
        "print(train_x.size())\n",
        "print(train_y.size())"
      ],
      "metadata": {
        "colab": {
          "base_uri": "https://localhost:8080/"
        },
        "id": "euRFnAlasr1b",
        "outputId": "f0d2f16d-84e1-48d8-92d5-e7948f98f24f"
      },
      "execution_count": 91,
      "outputs": [
        {
          "output_type": "stream",
          "name": "stdout",
          "text": [
            "torch.Size([60, 2877])\n",
            "torch.Size([60, 1])\n"
          ]
        }
      ]
    },
    {
      "cell_type": "code",
      "source": [
        "print(train_x[0])"
      ],
      "metadata": {
        "colab": {
          "base_uri": "https://localhost:8080/"
        },
        "id": "rCySub1ouwFA",
        "outputId": "1ac8f37f-d112-4184-fdf2-2fc6aafbb881"
      },
      "execution_count": 93,
      "outputs": [
        {
          "output_type": "stream",
          "name": "stdout",
          "text": [
            "tensor([5., 2., 2.,  ..., 0., 0., 0.])\n"
          ]
        }
      ]
    },
    {
      "cell_type": "code",
      "source": [
        "train_x, train_y = next(iter(dataloader))"
      ],
      "metadata": {
        "id": "yJYi0vKLu5Tf"
      },
      "execution_count": 94,
      "outputs": []
    },
    {
      "cell_type": "code",
      "source": [
        "print(train_x[0])\n",
        "\n",
        "#위랑 달라진 걸 볼 수 있음 next했으니까 다음 배치로 넘어간 것"
      ],
      "metadata": {
        "colab": {
          "base_uri": "https://localhost:8080/"
        },
        "id": "pkaRcDtiu7aV",
        "outputId": "783daba4-7941-4507-952b-8268dbfb1a3f"
      },
      "execution_count": 95,
      "outputs": [
        {
          "output_type": "stream",
          "name": "stdout",
          "text": [
            "tensor([4., 2., 2.,  ..., 0., 0., 0.])\n"
          ]
        }
      ]
    }
  ]
}